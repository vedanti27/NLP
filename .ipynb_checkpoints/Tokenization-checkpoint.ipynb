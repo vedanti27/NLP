{
 "cells": [
  {
   "cell_type": "markdown",
   "id": "9534580d",
   "metadata": {},
   "source": [
    "## Tokenization\n",
    "\n",
    "Converting text to tokens(sentences or words)"
   ]
  },
  {
   "cell_type": "code",
   "execution_count": 1,
   "id": "41fcd639",
   "metadata": {},
   "outputs": [
    {
     "name": "stdout",
     "output_type": "stream",
     "text": [
      "Requirement already satisfied: nltk in /Users/vedanti/opt/anaconda3/lib/python3.9/site-packages (3.7)\r\n",
      "Requirement already satisfied: click in /Users/vedanti/opt/anaconda3/lib/python3.9/site-packages (from nltk) (8.0.4)\r\n",
      "Requirement already satisfied: joblib in /Users/vedanti/.local/lib/python3.9/site-packages (from nltk) (1.2.0)\r\n",
      "Requirement already satisfied: regex>=2021.8.3 in /Users/vedanti/opt/anaconda3/lib/python3.9/site-packages (from nltk) (2022.3.15)\r\n",
      "Requirement already satisfied: tqdm in /Users/vedanti/opt/anaconda3/lib/python3.9/site-packages (from nltk) (4.64.0)\r\n"
     ]
    }
   ],
   "source": [
    "#lib required\n",
    "!pip install nltk"
   ]
  },
  {
   "cell_type": "code",
   "execution_count": 13,
   "id": "dcd7ae45",
   "metadata": {},
   "outputs": [],
   "source": [
    "#Defining corpus -para\n",
    "\n",
    "corpus = \"\"\"The world is witnessing a renewed commitment to addressing climate change.\\n Governments, corporations, and individuals are taking significant steps to reduce carbon emissions and transition to renewable energy sources.\\n Major cities have pledged to become carbon-neutral by 2050, while advancements in technology are making sustainable practices more feasible.\"\"\""
   ]
  },
  {
   "cell_type": "code",
   "execution_count": 14,
   "id": "bee28f14",
   "metadata": {},
   "outputs": [
    {
     "data": {
      "text/plain": [
       "'The world is witnessing a renewed commitment to addressing climate change.\\n Governments, corporations, and individuals are taking significant steps to reduce carbon emissions and transition to renewable energy sources.\\n Major cities have pledged to become carbon-neutral by 2050, while advancements in technology are making sustainable practices more feasible.'"
      ]
     },
     "execution_count": 14,
     "metadata": {},
     "output_type": "execute_result"
    }
   ],
   "source": [
    "corpus"
   ]
  },
  {
   "cell_type": "code",
   "execution_count": 15,
   "id": "4b2afbb4",
   "metadata": {},
   "outputs": [
    {
     "name": "stdout",
     "output_type": "stream",
     "text": [
      "The world is witnessing a renewed commitment to addressing climate change.\n",
      " Governments, corporations, and individuals are taking significant steps to reduce carbon emissions and transition to renewable energy sources.\n",
      " Major cities have pledged to become carbon-neutral by 2050, while advancements in technology are making sustainable practices more feasible.\n"
     ]
    }
   ],
   "source": [
    "print(corpus)"
   ]
  },
  {
   "cell_type": "code",
   "execution_count": 16,
   "id": "a5f87b96",
   "metadata": {},
   "outputs": [
    {
     "name": "stderr",
     "output_type": "stream",
     "text": [
      "[nltk_data] Downloading package punkt to /Users/vedanti/nltk_data...\n",
      "[nltk_data]   Package punkt is already up-to-date!\n"
     ]
    },
    {
     "data": {
      "text/plain": [
       "True"
      ]
     },
     "execution_count": 16,
     "metadata": {},
     "output_type": "execute_result"
    }
   ],
   "source": [
    "#importing lib and required package from it\n",
    "import nltk\n",
    "nltk.download('punkt')"
   ]
  },
  {
   "cell_type": "code",
   "execution_count": 17,
   "id": "6908e6dc",
   "metadata": {},
   "outputs": [],
   "source": [
    "#tokenization\n",
    "# sentence  --> paragraphs\n",
    "\n",
    "from nltk.tokenize import sent_tokenize"
   ]
  },
  {
   "cell_type": "code",
   "execution_count": 18,
   "id": "86ba31f3",
   "metadata": {},
   "outputs": [
    {
     "data": {
      "text/plain": [
       "['The world is witnessing a renewed commitment to addressing climate change.',\n",
       " 'Governments, corporations, and individuals are taking significant steps to reduce carbon emissions and transition to renewable energy sources.',\n",
       " 'Major cities have pledged to become carbon-neutral by 2050, while advancements in technology are making sustainable practices more feasible.']"
      ]
     },
     "execution_count": 18,
     "metadata": {},
     "output_type": "execute_result"
    }
   ],
   "source": [
    "#returns sentence tokenized copy of text given.\n",
    "documents =sent_tokenize(corpus)\n",
    "sent_tokenize(corpus)"
   ]
  },
  {
   "cell_type": "code",
   "execution_count": 19,
   "id": "ff3cf77a",
   "metadata": {},
   "outputs": [
    {
     "name": "stdout",
     "output_type": "stream",
     "text": [
      "<class 'list'>\n"
     ]
    }
   ],
   "source": [
    "print(type(documents))\n"
   ]
  },
  {
   "cell_type": "code",
   "execution_count": 20,
   "id": "674c7264",
   "metadata": {},
   "outputs": [
    {
     "name": "stdout",
     "output_type": "stream",
     "text": [
      "The world is witnessing a renewed commitment to addressing climate change.\n",
      "Governments, corporations, and individuals are taking significant steps to reduce carbon emissions and transition to renewable energy sources.\n",
      "Major cities have pledged to become carbon-neutral by 2050, while advancements in technology are making sustainable practices more feasible.\n"
     ]
    }
   ],
   "source": [
    "for sent in documents:\n",
    "    print(sent)"
   ]
  },
  {
   "cell_type": "code",
   "execution_count": 21,
   "id": "577e49b6",
   "metadata": {},
   "outputs": [],
   "source": [
    "#tokenization\n",
    "# para  --> word\n",
    "\n",
    "from nltk.tokenize import word_tokenize"
   ]
  },
  {
   "cell_type": "code",
   "execution_count": 22,
   "id": "d39764f4",
   "metadata": {},
   "outputs": [
    {
     "data": {
      "text/plain": [
       "['The',\n",
       " 'world',\n",
       " 'is',\n",
       " 'witnessing',\n",
       " 'a',\n",
       " 'renewed',\n",
       " 'commitment',\n",
       " 'to',\n",
       " 'addressing',\n",
       " 'climate',\n",
       " 'change',\n",
       " '.',\n",
       " 'Governments',\n",
       " ',',\n",
       " 'corporations',\n",
       " ',',\n",
       " 'and',\n",
       " 'individuals',\n",
       " 'are',\n",
       " 'taking',\n",
       " 'significant',\n",
       " 'steps',\n",
       " 'to',\n",
       " 'reduce',\n",
       " 'carbon',\n",
       " 'emissions',\n",
       " 'and',\n",
       " 'transition',\n",
       " 'to',\n",
       " 'renewable',\n",
       " 'energy',\n",
       " 'sources',\n",
       " '.',\n",
       " 'Major',\n",
       " 'cities',\n",
       " 'have',\n",
       " 'pledged',\n",
       " 'to',\n",
       " 'become',\n",
       " 'carbon-neutral',\n",
       " 'by',\n",
       " '2050',\n",
       " ',',\n",
       " 'while',\n",
       " 'advancements',\n",
       " 'in',\n",
       " 'technology',\n",
       " 'are',\n",
       " 'making',\n",
       " 'sustainable',\n",
       " 'practices',\n",
       " 'more',\n",
       " 'feasible',\n",
       " '.']"
      ]
     },
     "execution_count": 22,
     "metadata": {},
     "output_type": "execute_result"
    }
   ],
   "source": [
    "word_tokenize(corpus)"
   ]
  },
  {
   "cell_type": "code",
   "execution_count": 23,
   "id": "9dc334ae",
   "metadata": {},
   "outputs": [
    {
     "name": "stdout",
     "output_type": "stream",
     "text": [
      "['The', 'world', 'is', 'witnessing', 'a', 'renewed', 'commitment', 'to', 'addressing', 'climate', 'change', '.']\n",
      "['Governments', ',', 'corporations', ',', 'and', 'individuals', 'are', 'taking', 'significant', 'steps', 'to', 'reduce', 'carbon', 'emissions', 'and', 'transition', 'to', 'renewable', 'energy', 'sources', '.']\n",
      "['Major', 'cities', 'have', 'pledged', 'to', 'become', 'carbon-neutral', 'by', '2050', ',', 'while', 'advancements', 'in', 'technology', 'are', 'making', 'sustainable', 'practices', 'more', 'feasible', '.']\n"
     ]
    }
   ],
   "source": [
    "#sentence -> word\n",
    "for sent in documents:\n",
    "    print(word_tokenize(sent))"
   ]
  },
  {
   "cell_type": "code",
   "execution_count": 25,
   "id": "39f2487f",
   "metadata": {},
   "outputs": [
    {
     "data": {
      "text/plain": [
       "['The',\n",
       " 'world',\n",
       " 'is',\n",
       " 'witnessing',\n",
       " 'a',\n",
       " 'renewed',\n",
       " 'commitment',\n",
       " 'to',\n",
       " 'addressing',\n",
       " 'climate',\n",
       " 'change',\n",
       " '.',\n",
       " 'Governments',\n",
       " ',',\n",
       " 'corporations',\n",
       " ',',\n",
       " 'and',\n",
       " 'individuals',\n",
       " 'are',\n",
       " 'taking',\n",
       " 'significant',\n",
       " 'steps',\n",
       " 'to',\n",
       " 'reduce',\n",
       " 'carbon',\n",
       " 'emissions',\n",
       " 'and',\n",
       " 'transition',\n",
       " 'to',\n",
       " 'renewable',\n",
       " 'energy',\n",
       " 'sources',\n",
       " '.',\n",
       " 'Major',\n",
       " 'cities',\n",
       " 'have',\n",
       " 'pledged',\n",
       " 'to',\n",
       " 'become',\n",
       " 'carbon',\n",
       " '-',\n",
       " 'neutral',\n",
       " 'by',\n",
       " '2050',\n",
       " ',',\n",
       " 'while',\n",
       " 'advancements',\n",
       " 'in',\n",
       " 'technology',\n",
       " 'are',\n",
       " 'making',\n",
       " 'sustainable',\n",
       " 'practices',\n",
       " 'more',\n",
       " 'feasible',\n",
       " '.']"
      ]
     },
     "execution_count": 25,
     "metadata": {},
     "output_type": "execute_result"
    }
   ],
   "source": [
    "#for considering punctuations\n",
    "from nltk.tokenize import wordpunct_tokenize\n",
    "wordpunct_tokenize(corpus)"
   ]
  },
  {
   "cell_type": "code",
   "execution_count": 26,
   "id": "67569c4d",
   "metadata": {},
   "outputs": [],
   "source": [
    "#Fullstop not considered different\n",
    "from nltk.tokenize import TreebankWordTokenizer"
   ]
  },
  {
   "cell_type": "code",
   "execution_count": 27,
   "id": "c4fcfe7c",
   "metadata": {},
   "outputs": [],
   "source": [
    "tokenizer = TreebankWordTokenizer()"
   ]
  },
  {
   "cell_type": "code",
   "execution_count": 28,
   "id": "5046c718",
   "metadata": {},
   "outputs": [
    {
     "data": {
      "text/plain": [
       "['The',\n",
       " 'world',\n",
       " 'is',\n",
       " 'witnessing',\n",
       " 'a',\n",
       " 'renewed',\n",
       " 'commitment',\n",
       " 'to',\n",
       " 'addressing',\n",
       " 'climate',\n",
       " 'change.',\n",
       " 'Governments',\n",
       " ',',\n",
       " 'corporations',\n",
       " ',',\n",
       " 'and',\n",
       " 'individuals',\n",
       " 'are',\n",
       " 'taking',\n",
       " 'significant',\n",
       " 'steps',\n",
       " 'to',\n",
       " 'reduce',\n",
       " 'carbon',\n",
       " 'emissions',\n",
       " 'and',\n",
       " 'transition',\n",
       " 'to',\n",
       " 'renewable',\n",
       " 'energy',\n",
       " 'sources.',\n",
       " 'Major',\n",
       " 'cities',\n",
       " 'have',\n",
       " 'pledged',\n",
       " 'to',\n",
       " 'become',\n",
       " 'carbon-neutral',\n",
       " 'by',\n",
       " '2050',\n",
       " ',',\n",
       " 'while',\n",
       " 'advancements',\n",
       " 'in',\n",
       " 'technology',\n",
       " 'are',\n",
       " 'making',\n",
       " 'sustainable',\n",
       " 'practices',\n",
       " 'more',\n",
       " 'feasible',\n",
       " '.']"
      ]
     },
     "execution_count": 28,
     "metadata": {},
     "output_type": "execute_result"
    }
   ],
   "source": [
    "tokenizer.tokenize(corpus)"
   ]
  },
  {
   "cell_type": "code",
   "execution_count": null,
   "id": "6a36545e",
   "metadata": {},
   "outputs": [],
   "source": []
  }
 ],
 "metadata": {
  "kernelspec": {
   "display_name": "Python 3 (ipykernel)",
   "language": "python",
   "name": "python3"
  },
  "language_info": {
   "codemirror_mode": {
    "name": "ipython",
    "version": 3
   },
   "file_extension": ".py",
   "mimetype": "text/x-python",
   "name": "python",
   "nbconvert_exporter": "python",
   "pygments_lexer": "ipython3",
   "version": "3.9.12"
  }
 },
 "nbformat": 4,
 "nbformat_minor": 5
}
