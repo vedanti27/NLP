{
 "cells": [
  {
   "cell_type": "markdown",
   "id": "a916de59",
   "metadata": {},
   "source": [
    "# Stemming"
   ]
  },
  {
   "cell_type": "markdown",
   "id": "a99733b1",
   "metadata": {},
   "source": [
    "Data Preparation step:\n",
    "\n",
    "Stemming is the process of reducing a word to its word stem ,\n",
    ",removing the suffix or prefix from original word\n",
    "\n",
    "eg: eat,eaten,eating - all represent eat"
   ]
  },
  {
   "cell_type": "code",
   "execution_count": 1,
   "id": "17bb5cc9",
   "metadata": {},
   "outputs": [],
   "source": [
    "words=[\"eating\",\"eats\",\"eaten\",\"writing\",\"writes\",\"programming\",\"programs\",\"history\",\"finally\",\"finalized\"]\n"
   ]
  },
  {
   "cell_type": "markdown",
   "id": "b618cd90",
   "metadata": {},
   "source": [
    "## PorterStemmer"
   ]
  },
  {
   "cell_type": "code",
   "execution_count": 4,
   "id": "a0e02921",
   "metadata": {},
   "outputs": [],
   "source": [
    "from nltk.stem import PorterStemmer"
   ]
  },
  {
   "cell_type": "code",
   "execution_count": 5,
   "id": "5f827e7b",
   "metadata": {},
   "outputs": [],
   "source": [
    "#initialize\n",
    "\n",
    "stemming =PorterStemmer()"
   ]
  },
  {
   "cell_type": "code",
   "execution_count": 6,
   "id": "ec5a1648",
   "metadata": {},
   "outputs": [
    {
     "name": "stdout",
     "output_type": "stream",
     "text": [
      "eating eat\n",
      "eats eat\n",
      "eaten eaten\n",
      "writing write\n",
      "writes write\n",
      "programming program\n",
      "programs program\n",
      "history histori\n",
      "finally final\n",
      "finalized final\n"
     ]
    }
   ],
   "source": [
    "for word in words:\n",
    "    print(word +\" \" +stemming.stem(word))\n"
   ]
  },
  {
   "cell_type": "code",
   "execution_count": 7,
   "id": "c0a3237c",
   "metadata": {},
   "outputs": [
    {
     "data": {
      "text/plain": [
       "'congratul'"
      ]
     },
     "execution_count": 7,
     "metadata": {},
     "output_type": "execute_result"
    }
   ],
   "source": [
    "#some words are not meaningful- disadvantage of stemming\n",
    "#useful in spamming\n",
    "stemming.stem('Congratulations')"
   ]
  },
  {
   "cell_type": "markdown",
   "id": "b932c1c1",
   "metadata": {},
   "source": [
    "## RegexpStemmer class\n",
    "takes single regular expression and removes sufficx or prefix that matches expression"
   ]
  },
  {
   "cell_type": "code",
   "execution_count": 10,
   "id": "4bbb712c",
   "metadata": {},
   "outputs": [],
   "source": [
    "from nltk.stem import RegexpStemmer"
   ]
  },
  {
   "cell_type": "code",
   "execution_count": 11,
   "id": "1440b6e9",
   "metadata": {},
   "outputs": [],
   "source": [
    "reg_stemmetr=RegexpStemmer('ing$|s$|e$|able$', min=4)"
   ]
  },
  {
   "cell_type": "code",
   "execution_count": 12,
   "id": "da689d16",
   "metadata": {},
   "outputs": [
    {
     "data": {
      "text/plain": [
       "'eat'"
      ]
     },
     "execution_count": 12,
     "metadata": {},
     "output_type": "execute_result"
    }
   ],
   "source": [
    "reg_stemmetr.stem('eating')"
   ]
  },
  {
   "cell_type": "markdown",
   "id": "be5e0b94",
   "metadata": {},
   "source": [
    "## Snowball Stemmer\n",
    "better accuracy of words then PorterStemmer"
   ]
  },
  {
   "cell_type": "code",
   "execution_count": 13,
   "id": "16c2e270",
   "metadata": {},
   "outputs": [],
   "source": [
    "from nltk import SnowballStemmer"
   ]
  },
  {
   "cell_type": "code",
   "execution_count": 15,
   "id": "61f214f2",
   "metadata": {},
   "outputs": [],
   "source": [
    "# intialize -specify langauge\n",
    "ss = SnowballStemmer('english')"
   ]
  },
  {
   "cell_type": "code",
   "execution_count": 16,
   "id": "7b87320c",
   "metadata": {},
   "outputs": [
    {
     "name": "stdout",
     "output_type": "stream",
     "text": [
      "eating eat\n",
      "eats eat\n",
      "eaten eaten\n",
      "writing write\n",
      "writes write\n",
      "programming program\n",
      "programs program\n",
      "history histori\n",
      "finally final\n",
      "finalized final\n"
     ]
    }
   ],
   "source": [
    "for word in words:\n",
    "    print(word + \" \"+ss.stem(word))"
   ]
  },
  {
   "cell_type": "code",
   "execution_count": 20,
   "id": "592eb76e",
   "metadata": {},
   "outputs": [
    {
     "data": {
      "text/plain": [
       "('fairli', 'sportingli')"
      ]
     },
     "execution_count": 20,
     "metadata": {},
     "output_type": "execute_result"
    }
   ],
   "source": [
    "stemming.stem(\"fairly\"),stemming.stem(\"Sportingly\")"
   ]
  },
  {
   "cell_type": "code",
   "execution_count": 21,
   "id": "27621ccd",
   "metadata": {},
   "outputs": [
    {
     "data": {
      "text/plain": [
       "('fair', 'sport')"
      ]
     },
     "execution_count": 21,
     "metadata": {},
     "output_type": "execute_result"
    }
   ],
   "source": [
    "ss.stem(\"fairly\"),ss.stem(\"Sportingly\") #better"
   ]
  },
  {
   "cell_type": "code",
   "execution_count": null,
   "id": "9d0a381d",
   "metadata": {},
   "outputs": [],
   "source": []
  }
 ],
 "metadata": {
  "kernelspec": {
   "display_name": "Python 3 (ipykernel)",
   "language": "python",
   "name": "python3"
  },
  "language_info": {
   "codemirror_mode": {
    "name": "ipython",
    "version": 3
   },
   "file_extension": ".py",
   "mimetype": "text/x-python",
   "name": "python",
   "nbconvert_exporter": "python",
   "pygments_lexer": "ipython3",
   "version": "3.9.12"
  }
 },
 "nbformat": 4,
 "nbformat_minor": 5
}
