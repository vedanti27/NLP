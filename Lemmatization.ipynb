{
 "cells": [
  {
   "cell_type": "markdown",
   "id": "b586d7ef",
   "metadata": {},
   "source": [
    "# Lemmitizer\n",
    "\n",
    "Here we get root word, also gives meaningful word.\n",
    "Meaning is same\n"
   ]
  },
  {
   "cell_type": "markdown",
   "id": "d44ee95a",
   "metadata": {},
   "source": [
    "## Wordnet Lemmitizer\n",
    "\n",
    "thin wrapper around wordnet corpus.This class uses morphy() function to find a lemma- output word after lemmitization\n",
    "\n",
    "dis- takes more time as it compares word around wordnet corpus . not useful when long words\n",
    "\n",
    "#### eg : Q&A, chatbots,text summarization"
   ]
  },
  {
   "cell_type": "code",
   "execution_count": 17,
   "id": "f20acdf7",
   "metadata": {},
   "outputs": [],
   "source": [
    "from nltk.stem import WordNetLemmatizer"
   ]
  },
  {
   "cell_type": "code",
   "execution_count": 9,
   "id": "ca3e42b6",
   "metadata": {},
   "outputs": [
    {
     "name": "stderr",
     "output_type": "stream",
     "text": [
      "[nltk_data] Downloading package wordnet to /Users/vedanti/nltk_data...\n",
      "[nltk_data]   Package wordnet is already up-to-date!\n",
      "[nltk_data] Downloading package omw-1.4 to /Users/vedanti/nltk_data...\n"
     ]
    },
    {
     "data": {
      "text/plain": [
       "True"
      ]
     },
     "execution_count": 9,
     "metadata": {},
     "output_type": "execute_result"
    }
   ],
   "source": [
    "import nltk\n",
    "nltk.download('wordnet')\n",
    "nltk.download('omw-1.4')"
   ]
  },
  {
   "cell_type": "code",
   "execution_count": 10,
   "id": "ea760d49",
   "metadata": {},
   "outputs": [],
   "source": [
    "lemmatizer = WordNetLemmatizer()"
   ]
  },
  {
   "cell_type": "markdown",
   "id": "7e6b311b",
   "metadata": {},
   "source": [
    "Pos tag in next function\n",
    "\n",
    "POS\n",
    "Noun -n\n",
    "Verb -v\n",
    "adjective -a\n",
    "adverb -r"
   ]
  },
  {
   "cell_type": "code",
   "execution_count": 11,
   "id": "b2ecc71e",
   "metadata": {},
   "outputs": [
    {
     "data": {
      "text/plain": [
       "'going'"
      ]
     },
     "execution_count": 11,
     "metadata": {},
     "output_type": "execute_result"
    }
   ],
   "source": [
    "lemmatizer.lemmatize(\"going\")"
   ]
  },
  {
   "cell_type": "code",
   "execution_count": 12,
   "id": "d0bfd057",
   "metadata": {},
   "outputs": [
    {
     "data": {
      "text/plain": [
       "'go'"
      ]
     },
     "execution_count": 12,
     "metadata": {},
     "output_type": "execute_result"
    }
   ],
   "source": [
    "#using pos tag and specifying it as a verb\n",
    "lemmatizer.lemmatize(\"going\",pos='v')"
   ]
  },
  {
   "cell_type": "code",
   "execution_count": 5,
   "id": "2ca00f30",
   "metadata": {},
   "outputs": [],
   "source": [
    "words=[\"eating\",\"eats\",\"eaten\",\"writing\",\"writes\",\"programming\",\"programs\",\"history\",\"finally\",\"finalized\"]\n"
   ]
  },
  {
   "cell_type": "code",
   "execution_count": 14,
   "id": "92233a9e",
   "metadata": {},
   "outputs": [
    {
     "name": "stdout",
     "output_type": "stream",
     "text": [
      "eating eating\n",
      "eats eats\n",
      "eaten eaten\n",
      "writing writing\n",
      "writes writes\n",
      "programming programming\n",
      "programs program\n",
      "history history\n",
      "finally finally\n",
      "finalized finalized\n"
     ]
    }
   ],
   "source": [
    "#words as noun - does not work where we have given as verb\n",
    "for word in words:\n",
    "    print(word +\" \" +lemmatizer.lemmatize(word,pos='n'))\n"
   ]
  },
  {
   "cell_type": "code",
   "execution_count": 16,
   "id": "a934eba5",
   "metadata": {},
   "outputs": [
    {
     "name": "stdout",
     "output_type": "stream",
     "text": [
      "eating eat\n",
      "eats eat\n",
      "eaten eat\n",
      "writing write\n",
      "writes write\n",
      "programming program\n",
      "programs program\n",
      "history history\n",
      "finally finally\n",
      "finalized finalize\n"
     ]
    }
   ],
   "source": [
    "#as verb\n",
    "for word in words:\n",
    "    print(word +\" \" +lemmatizer.lemmatize(word,pos='v'))\n"
   ]
  },
  {
   "cell_type": "code",
   "execution_count": null,
   "id": "39488b38",
   "metadata": {},
   "outputs": [],
   "source": [
    " "
   ]
  }
 ],
 "metadata": {
  "kernelspec": {
   "display_name": "Python 3 (ipykernel)",
   "language": "python",
   "name": "python3"
  },
  "language_info": {
   "codemirror_mode": {
    "name": "ipython",
    "version": 3
   },
   "file_extension": ".py",
   "mimetype": "text/x-python",
   "name": "python",
   "nbconvert_exporter": "python",
   "pygments_lexer": "ipython3",
   "version": "3.9.12"
  }
 },
 "nbformat": 4,
 "nbformat_minor": 5
}
